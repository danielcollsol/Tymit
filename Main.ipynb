{
 "cells": [
  {
   "cell_type": "markdown",
   "metadata": {},
   "source": [
    "# Junior Data Scientist Task - Tymit"
   ]
  },
  {
   "cell_type": "markdown",
   "metadata": {},
   "source": [
    "In this section we will be working through the provided dataset with the following steps:\n",
    "\n",
    "    A. Descriptive Analysis\n",
    "        1. Getting and setting up the data\n",
    "        2. Priority Distribution\n",
    "        3. Time Resolution Distribution\n",
    "        4. Task created by Week Days\n",
    "     \n",
    "    B. Trend Analysis & Data Management\n",
    "        1. Evolution of Tasks Along Time\n",
    "    C. Modelling and Prediction\n",
    "    D. Communication\n",
    "    "
   ]
  },
  {
   "cell_type": "markdown",
   "metadata": {},
   "source": [
    "# A. Description Analysis"
   ]
  },
  {
   "cell_type": "markdown",
   "metadata": {},
   "source": [
    "### 1. Getting and setting up the data"
   ]
  },
  {
   "cell_type": "markdown",
   "metadata": {},
   "source": [
    "First we'll import our usual data analysis imports."
   ]
  },
  {
   "cell_type": "code",
   "execution_count": 1,
   "metadata": {},
   "outputs": [],
   "source": [
    "import numpy as np\n",
    "import pandas as pd\n",
    "from pandas import Series, DataFrame\n",
    "\n",
    "from datetime import datetime, timedelta\n",
    "import datetime"
   ]
  },
  {
   "cell_type": "markdown",
   "metadata": {},
   "source": [
    "Imports for plotting."
   ]
  },
  {
   "cell_type": "code",
   "execution_count": 2,
   "metadata": {},
   "outputs": [],
   "source": [
    "import matplotlib.pyplot as plt\n",
    "import matplotlib as mpl\n",
    "import seaborn as sns\n",
    "sns.set_style('whitegrid')\n",
    "\n",
    "# Command so that plots appear in the iPython Notebook\n",
    "%matplotlib inline"
   ]
  },
  {
   "cell_type": "markdown",
   "metadata": {},
   "source": [
    "Imports for modelling"
   ]
  },
  {
   "cell_type": "code",
   "execution_count": 3,
   "metadata": {},
   "outputs": [],
   "source": [
    "from sklearn.model_selection import train_test_split \n",
    "from sklearn.linear_model import LinearRegression\n",
    "\n",
    "from sklearn.preprocessing import OneHotEncoder\n",
    "#from sklearn.compose import make_column_transformer\n",
    "#from sklearn import metrics\n"
   ]
  },
  {
   "cell_type": "markdown",
   "metadata": {},
   "source": [
    "Retrieve dataset from csv file to pandas DataFrame."
   ]
  },
  {
   "cell_type": "code",
   "execution_count": 4,
   "metadata": {},
   "outputs": [],
   "source": [
    "file = 'src/test_data.csv'\n",
    "df_raw = pd.read_csv(file)"
   ]
  },
  {
   "cell_type": "markdown",
   "metadata": {},
   "source": [
    "Display head of the dataframe."
   ]
  },
  {
   "cell_type": "code",
   "execution_count": 5,
   "metadata": {
    "scrolled": true
   },
   "outputs": [
    {
     "data": {
      "text/html": [
       "<div>\n",
       "<style scoped>\n",
       "    .dataframe tbody tr th:only-of-type {\n",
       "        vertical-align: middle;\n",
       "    }\n",
       "\n",
       "    .dataframe tbody tr th {\n",
       "        vertical-align: top;\n",
       "    }\n",
       "\n",
       "    .dataframe thead th {\n",
       "        text-align: right;\n",
       "    }\n",
       "</style>\n",
       "<table border=\"1\" class=\"dataframe\">\n",
       "  <thead>\n",
       "    <tr style=\"text-align: right;\">\n",
       "      <th></th>\n",
       "      <th>Key</th>\n",
       "      <th>Date_Created</th>\n",
       "      <th>Date_Resolution</th>\n",
       "      <th>Date_Updated</th>\n",
       "      <th>Priority</th>\n",
       "      <th>Status_Name</th>\n",
       "      <th>has_cifas</th>\n",
       "      <th>has_edd</th>\n",
       "      <th>has_noc</th>\n",
       "      <th>has_thin_file</th>\n",
       "      <th>time_to_resolution</th>\n",
       "    </tr>\n",
       "  </thead>\n",
       "  <tbody>\n",
       "    <tr>\n",
       "      <th>0</th>\n",
       "      <td>TSD-100</td>\n",
       "      <td>2020-01-09 12:33:23</td>\n",
       "      <td>2020-01-15 11:36:23</td>\n",
       "      <td>2020-02-02 12:24:00</td>\n",
       "      <td>Medium</td>\n",
       "      <td>Done</td>\n",
       "      <td>0</td>\n",
       "      <td>0</td>\n",
       "      <td>0</td>\n",
       "      <td>0</td>\n",
       "      <td>5</td>\n",
       "    </tr>\n",
       "    <tr>\n",
       "      <th>1</th>\n",
       "      <td>TSD-1003</td>\n",
       "      <td>2020-02-12 23:21:33</td>\n",
       "      <td>2020-02-13 00:09:13</td>\n",
       "      <td>2020-02-13 00:09:13</td>\n",
       "      <td>Medium</td>\n",
       "      <td>Done</td>\n",
       "      <td>0</td>\n",
       "      <td>1</td>\n",
       "      <td>0</td>\n",
       "      <td>0</td>\n",
       "      <td>0</td>\n",
       "    </tr>\n",
       "    <tr>\n",
       "      <th>2</th>\n",
       "      <td>TSD-1005</td>\n",
       "      <td>2020-02-13 00:13:23</td>\n",
       "      <td>2020-02-15 18:41:10</td>\n",
       "      <td>2020-02-15 18:41:10</td>\n",
       "      <td>High</td>\n",
       "      <td>Done</td>\n",
       "      <td>0</td>\n",
       "      <td>1</td>\n",
       "      <td>0</td>\n",
       "      <td>0</td>\n",
       "      <td>2</td>\n",
       "    </tr>\n",
       "    <tr>\n",
       "      <th>3</th>\n",
       "      <td>TSD-1025</td>\n",
       "      <td>2020-02-13 14:15:29</td>\n",
       "      <td>2020-02-14 00:06:49</td>\n",
       "      <td>2020-02-14 00:06:49</td>\n",
       "      <td>Medium</td>\n",
       "      <td>Done</td>\n",
       "      <td>1</td>\n",
       "      <td>1</td>\n",
       "      <td>0</td>\n",
       "      <td>0</td>\n",
       "      <td>0</td>\n",
       "    </tr>\n",
       "    <tr>\n",
       "      <th>4</th>\n",
       "      <td>TSD-1028</td>\n",
       "      <td>2020-02-13 16:43:29</td>\n",
       "      <td>NaN</td>\n",
       "      <td>2020-02-15 18:37:08</td>\n",
       "      <td>High</td>\n",
       "      <td>Escalated</td>\n",
       "      <td>0</td>\n",
       "      <td>1</td>\n",
       "      <td>0</td>\n",
       "      <td>0</td>\n",
       "      <td>7</td>\n",
       "    </tr>\n",
       "  </tbody>\n",
       "</table>\n",
       "</div>"
      ],
      "text/plain": [
       "        Key         Date_Created      Date_Resolution         Date_Updated  \\\n",
       "0   TSD-100  2020-01-09 12:33:23  2020-01-15 11:36:23  2020-02-02 12:24:00   \n",
       "1  TSD-1003  2020-02-12 23:21:33  2020-02-13 00:09:13  2020-02-13 00:09:13   \n",
       "2  TSD-1005  2020-02-13 00:13:23  2020-02-15 18:41:10  2020-02-15 18:41:10   \n",
       "3  TSD-1025  2020-02-13 14:15:29  2020-02-14 00:06:49  2020-02-14 00:06:49   \n",
       "4  TSD-1028  2020-02-13 16:43:29                  NaN  2020-02-15 18:37:08   \n",
       "\n",
       "  Priority Status_Name  has_cifas  has_edd  has_noc  has_thin_file  \\\n",
       "0   Medium        Done          0        0        0              0   \n",
       "1   Medium        Done          0        1        0              0   \n",
       "2     High        Done          0        1        0              0   \n",
       "3   Medium        Done          1        1        0              0   \n",
       "4     High   Escalated          0        1        0              0   \n",
       "\n",
       "   time_to_resolution  \n",
       "0                   5  \n",
       "1                   0  \n",
       "2                   2  \n",
       "3                   0  \n",
       "4                   7  "
      ]
     },
     "execution_count": 5,
     "metadata": {},
     "output_type": "execute_result"
    }
   ],
   "source": [
    "pd.set_option('display.max_columns', None)\n",
    "df_raw.head()"
   ]
  },
  {
   "cell_type": "markdown",
   "metadata": {},
   "source": [
    "Check column datatypes"
   ]
  },
  {
   "cell_type": "code",
   "execution_count": 6,
   "metadata": {
    "scrolled": true
   },
   "outputs": [
    {
     "name": "stdout",
     "output_type": "stream",
     "text": [
      "Columns datetypes:\n"
     ]
    },
    {
     "data": {
      "text/plain": [
       "Key                   object\n",
       "Date_Created          object\n",
       "Date_Resolution       object\n",
       "Date_Updated          object\n",
       "Priority              object\n",
       "Status_Name           object\n",
       "has_cifas              int64\n",
       "has_edd                int64\n",
       "has_noc                int64\n",
       "has_thin_file          int64\n",
       "time_to_resolution     int64\n",
       "dtype: object"
      ]
     },
     "execution_count": 6,
     "metadata": {},
     "output_type": "execute_result"
    }
   ],
   "source": [
    "print('Columns datetypes:')\n",
    "df_raw.dtypes"
   ]
  },
  {
   "cell_type": "markdown",
   "metadata": {},
   "source": [
    "Let's convert string dates (object) into datetime datatype"
   ]
  },
  {
   "cell_type": "code",
   "execution_count": 7,
   "metadata": {},
   "outputs": [],
   "source": [
    "columns_2convert_2datetime = ['Date_Created','Date_Resolution','Date_Updated']\n",
    "for column in columns_2convert_2datetime:\n",
    "    df_raw[column] = pd.to_datetime(df_raw[column])\n",
    "#Save processed dataframe with different name\n",
    "df = df_raw.copy()"
   ]
  },
  {
   "cell_type": "code",
   "execution_count": 8,
   "metadata": {
    "scrolled": true
   },
   "outputs": [
    {
     "data": {
      "text/plain": [
       "Key                           object\n",
       "Date_Created          datetime64[ns]\n",
       "Date_Resolution       datetime64[ns]\n",
       "Date_Updated          datetime64[ns]\n",
       "Priority                      object\n",
       "Status_Name                   object\n",
       "has_cifas                      int64\n",
       "has_edd                        int64\n",
       "has_noc                        int64\n",
       "has_thin_file                  int64\n",
       "time_to_resolution             int64\n",
       "dtype: object"
      ]
     },
     "execution_count": 8,
     "metadata": {},
     "output_type": "execute_result"
    }
   ],
   "source": [
    "df.dtypes"
   ]
  },
  {
   "cell_type": "markdown",
   "metadata": {},
   "source": [
    "### 2. Priority Distribution"
   ]
  },
  {
   "cell_type": "markdown",
   "metadata": {},
   "source": [
    "Let's see how tasks are prioritized"
   ]
  },
  {
   "cell_type": "code",
   "execution_count": 9,
   "metadata": {},
   "outputs": [
    {
     "data": {
      "text/plain": [
       "<matplotlib.axes._subplots.AxesSubplot at 0x114b2b940>"
      ]
     },
     "execution_count": 9,
     "metadata": {},
     "output_type": "execute_result"
    },
    {
     "data": {
      "image/png": "[encoded data removed]",
      "text/plain": [
       "<Figure size 432x288 with 1 Axes>"
      ]
     },
     "metadata": {
      "needs_background": "light"
     },
     "output_type": "display_data"
    }
   ],
   "source": [
    "df['Priority'].value_counts().reindex(['Low', 'Medium','High','Highest']).plot(kind='bar')"
   ]
  },
  {
   "cell_type": "markdown",
   "metadata": {},
   "source": [
    "### 3. Time Resolution Distribution"
   ]
  },
  {
   "cell_type": "markdown",
   "metadata": {},
   "source": [
    "Let's see in how many days tasks are resoluted"
   ]
  },
  {
   "cell_type": "code",
   "execution_count": 10,
   "metadata": {},
   "outputs": [
    {
     "data": {
      "text/plain": [
       "<matplotlib.axes._subplots.AxesSubplot at 0x1a179a3710>"
      ]
     },
     "execution_count": 10,
     "metadata": {},
     "output_type": "execute_result"
    },
    {
     "data": {
      "image/png": "[encoded data removed]",
      "text/plain": [
       "<Figure size 432x288 with 1 Axes>"
      ]
     },
     "metadata": {
      "needs_background": "light"
     },
     "output_type": "display_data"
    }
   ],
   "source": [
    "sns.distplot(df['time_to_resolution'])"
   ]
  },
  {
   "cell_type": "markdown",
   "metadata": {},
   "source": [
    "### 4. Task created by Week Days"
   ]
  },
  {
   "cell_type": "markdown",
   "metadata": {},
   "source": [
    "Let's create a new column for that purpose"
   ]
  },
  {
   "cell_type": "code",
   "execution_count": 11,
   "metadata": {},
   "outputs": [],
   "source": [
    "df['Weekday_Created'] = df['Date_Created'].dt.day_name()"
   ]
  },
  {
   "cell_type": "code",
   "execution_count": 12,
   "metadata": {},
   "outputs": [
    {
     "data": {
      "text/html": [
       "<div>\n",
       "<style scoped>\n",
       "    .dataframe tbody tr th:only-of-type {\n",
       "        vertical-align: middle;\n",
       "    }\n",
       "\n",
       "    .dataframe tbody tr th {\n",
       "        vertical-align: top;\n",
       "    }\n",
       "\n",
       "    .dataframe thead th {\n",
       "        text-align: right;\n",
       "    }\n",
       "</style>\n",
       "<table border=\"1\" class=\"dataframe\">\n",
       "  <thead>\n",
       "    <tr style=\"text-align: right;\">\n",
       "      <th></th>\n",
       "      <th>Key</th>\n",
       "      <th>Date_Created</th>\n",
       "      <th>Date_Resolution</th>\n",
       "      <th>Date_Updated</th>\n",
       "      <th>Priority</th>\n",
       "      <th>Status_Name</th>\n",
       "      <th>has_cifas</th>\n",
       "      <th>has_edd</th>\n",
       "      <th>has_noc</th>\n",
       "      <th>has_thin_file</th>\n",
       "      <th>time_to_resolution</th>\n",
       "      <th>Weekday_Created</th>\n",
       "    </tr>\n",
       "  </thead>\n",
       "  <tbody>\n",
       "    <tr>\n",
       "      <th>0</th>\n",
       "      <td>TSD-100</td>\n",
       "      <td>2020-01-09 12:33:23</td>\n",
       "      <td>2020-01-15 11:36:23</td>\n",
       "      <td>2020-02-02 12:24:00</td>\n",
       "      <td>Medium</td>\n",
       "      <td>Done</td>\n",
       "      <td>0</td>\n",
       "      <td>0</td>\n",
       "      <td>0</td>\n",
       "      <td>0</td>\n",
       "      <td>5</td>\n",
       "      <td>Thursday</td>\n",
       "    </tr>\n",
       "    <tr>\n",
       "      <th>1</th>\n",
       "      <td>TSD-1003</td>\n",
       "      <td>2020-02-12 23:21:33</td>\n",
       "      <td>2020-02-13 00:09:13</td>\n",
       "      <td>2020-02-13 00:09:13</td>\n",
       "      <td>Medium</td>\n",
       "      <td>Done</td>\n",
       "      <td>0</td>\n",
       "      <td>1</td>\n",
       "      <td>0</td>\n",
       "      <td>0</td>\n",
       "      <td>0</td>\n",
       "      <td>Wednesday</td>\n",
       "    </tr>\n",
       "    <tr>\n",
       "      <th>2</th>\n",
       "      <td>TSD-1005</td>\n",
       "      <td>2020-02-13 00:13:23</td>\n",
       "      <td>2020-02-15 18:41:10</td>\n",
       "      <td>2020-02-15 18:41:10</td>\n",
       "      <td>High</td>\n",
       "      <td>Done</td>\n",
       "      <td>0</td>\n",
       "      <td>1</td>\n",
       "      <td>0</td>\n",
       "      <td>0</td>\n",
       "      <td>2</td>\n",
       "      <td>Thursday</td>\n",
       "    </tr>\n",
       "    <tr>\n",
       "      <th>3</th>\n",
       "      <td>TSD-1025</td>\n",
       "      <td>2020-02-13 14:15:29</td>\n",
       "      <td>2020-02-14 00:06:49</td>\n",
       "      <td>2020-02-14 00:06:49</td>\n",
       "      <td>Medium</td>\n",
       "      <td>Done</td>\n",
       "      <td>1</td>\n",
       "      <td>1</td>\n",
       "      <td>0</td>\n",
       "      <td>0</td>\n",
       "      <td>0</td>\n",
       "      <td>Thursday</td>\n",
       "    </tr>\n",
       "    <tr>\n",
       "      <th>4</th>\n",
       "      <td>TSD-1028</td>\n",
       "      <td>2020-02-13 16:43:29</td>\n",
       "      <td>NaT</td>\n",
       "      <td>2020-02-15 18:37:08</td>\n",
       "      <td>High</td>\n",
       "      <td>Escalated</td>\n",
       "      <td>0</td>\n",
       "      <td>1</td>\n",
       "      <td>0</td>\n",
       "      <td>0</td>\n",
       "      <td>7</td>\n",
       "      <td>Thursday</td>\n",
       "    </tr>\n",
       "  </tbody>\n",
       "</table>\n",
       "</div>"
      ],
      "text/plain": [
       "        Key        Date_Created     Date_Resolution        Date_Updated  \\\n",
       "0   TSD-100 2020-01-09 12:33:23 2020-01-15 11:36:23 2020-02-02 12:24:00   \n",
       "1  TSD-1003 2020-02-12 23:21:33 2020-02-13 00:09:13 2020-02-13 00:09:13   \n",
       "2  TSD-1005 2020-02-13 00:13:23 2020-02-15 18:41:10 2020-02-15 18:41:10   \n",
       "3  TSD-1025 2020-02-13 14:15:29 2020-02-14 00:06:49 2020-02-14 00:06:49   \n",
       "4  TSD-1028 2020-02-13 16:43:29                 NaT 2020-02-15 18:37:08   \n",
       "\n",
       "  Priority Status_Name  has_cifas  has_edd  has_noc  has_thin_file  \\\n",
       "0   Medium        Done          0        0        0              0   \n",
       "1   Medium        Done          0        1        0              0   \n",
       "2     High        Done          0        1        0              0   \n",
       "3   Medium        Done          1        1        0              0   \n",
       "4     High   Escalated          0        1        0              0   \n",
       "\n",
       "   time_to_resolution Weekday_Created  \n",
       "0                   5        Thursday  \n",
       "1                   0       Wednesday  \n",
       "2                   2        Thursday  \n",
       "3                   0        Thursday  \n",
       "4                   7        Thursday  "
      ]
     },
     "execution_count": 12,
     "metadata": {},
     "output_type": "execute_result"
    }
   ],
   "source": [
    "df.head()"
   ]
  },
  {
   "cell_type": "code",
   "execution_count": 13,
   "metadata": {},
   "outputs": [
    {
     "data": {
      "text/plain": [
       "<matplotlib.axes._subplots.AxesSubplot at 0x1a17eb1518>"
      ]
     },
     "execution_count": 13,
     "metadata": {},
     "output_type": "execute_result"
    },
    {
     "data": {
      "image/png": "[encoded data removed]",
      "text/plain": [
       "<Figure size 432x288 with 1 Axes>"
      ]
     },
     "metadata": {
      "needs_background": "light"
     },
     "output_type": "display_data"
    }
   ],
   "source": [
    "week_days = ['Monday','Tuesday', 'Wednesday', 'Thursday', 'Friday', 'Saturday', 'Sunday']\n",
    "df['Weekday_Created'].value_counts().reindex(week_days).plot(kind='bar')"
   ]
  },
  {
   "cell_type": "markdown",
   "metadata": {},
   "source": [
    "# B. Trend Analysis & Data Management"
   ]
  },
  {
   "cell_type": "markdown",
   "metadata": {},
   "source": [
    "### 1. Evolution of Tasks Along Time"
   ]
  },
  {
   "cell_type": "code",
   "execution_count": 14,
   "metadata": {},
   "outputs": [],
   "source": [
    "# Create week number column on dataframe for tasks created and resoluted\n",
    "df['Week_Num_Created'] = df['Date_Created'].dt.week\n",
    "df['Week_Num_Resoluted'] = df['Date_Resolution'].dt.week"
   ]
  },
  {
   "cell_type": "code",
   "execution_count": 15,
   "metadata": {},
   "outputs": [
    {
     "data": {
      "text/html": [
       "<div>\n",
       "<style scoped>\n",
       "    .dataframe tbody tr th:only-of-type {\n",
       "        vertical-align: middle;\n",
       "    }\n",
       "\n",
       "    .dataframe tbody tr th {\n",
       "        vertical-align: top;\n",
       "    }\n",
       "\n",
       "    .dataframe thead th {\n",
       "        text-align: right;\n",
       "    }\n",
       "</style>\n",
       "<table border=\"1\" class=\"dataframe\">\n",
       "  <thead>\n",
       "    <tr style=\"text-align: right;\">\n",
       "      <th></th>\n",
       "      <th>Key</th>\n",
       "      <th>Date_Created</th>\n",
       "      <th>Date_Resolution</th>\n",
       "      <th>Date_Updated</th>\n",
       "      <th>Priority</th>\n",
       "      <th>Status_Name</th>\n",
       "      <th>has_cifas</th>\n",
       "      <th>has_edd</th>\n",
       "      <th>has_noc</th>\n",
       "      <th>has_thin_file</th>\n",
       "      <th>time_to_resolution</th>\n",
       "      <th>Weekday_Created</th>\n",
       "      <th>Week_Num_Created</th>\n",
       "      <th>Week_Num_Resoluted</th>\n",
       "    </tr>\n",
       "  </thead>\n",
       "  <tbody>\n",
       "    <tr>\n",
       "      <th>0</th>\n",
       "      <td>TSD-100</td>\n",
       "      <td>2020-01-09 12:33:23</td>\n",
       "      <td>2020-01-15 11:36:23</td>\n",
       "      <td>2020-02-02 12:24:00</td>\n",
       "      <td>Medium</td>\n",
       "      <td>Done</td>\n",
       "      <td>0</td>\n",
       "      <td>0</td>\n",
       "      <td>0</td>\n",
       "      <td>0</td>\n",
       "      <td>5</td>\n",
       "      <td>Thursday</td>\n",
       "      <td>2</td>\n",
       "      <td>3.0</td>\n",
       "    </tr>\n",
       "    <tr>\n",
       "      <th>1</th>\n",
       "      <td>TSD-1003</td>\n",
       "      <td>2020-02-12 23:21:33</td>\n",
       "      <td>2020-02-13 00:09:13</td>\n",
       "      <td>2020-02-13 00:09:13</td>\n",
       "      <td>Medium</td>\n",
       "      <td>Done</td>\n",
       "      <td>0</td>\n",
       "      <td>1</td>\n",
       "      <td>0</td>\n",
       "      <td>0</td>\n",
       "      <td>0</td>\n",
       "      <td>Wednesday</td>\n",
       "      <td>7</td>\n",
       "      <td>7.0</td>\n",
       "    </tr>\n",
       "    <tr>\n",
       "      <th>2</th>\n",
       "      <td>TSD-1005</td>\n",
       "      <td>2020-02-13 00:13:23</td>\n",
       "      <td>2020-02-15 18:41:10</td>\n",
       "      <td>2020-02-15 18:41:10</td>\n",
       "      <td>High</td>\n",
       "      <td>Done</td>\n",
       "      <td>0</td>\n",
       "      <td>1</td>\n",
       "      <td>0</td>\n",
       "      <td>0</td>\n",
       "      <td>2</td>\n",
       "      <td>Thursday</td>\n",
       "      <td>7</td>\n",
       "      <td>7.0</td>\n",
       "    </tr>\n",
       "    <tr>\n",
       "      <th>3</th>\n",
       "      <td>TSD-1025</td>\n",
       "      <td>2020-02-13 14:15:29</td>\n",
       "      <td>2020-02-14 00:06:49</td>\n",
       "      <td>2020-02-14 00:06:49</td>\n",
       "      <td>Medium</td>\n",
       "      <td>Done</td>\n",
       "      <td>1</td>\n",
       "      <td>1</td>\n",
       "      <td>0</td>\n",
       "      <td>0</td>\n",
       "      <td>0</td>\n",
       "      <td>Thursday</td>\n",
       "      <td>7</td>\n",
       "      <td>7.0</td>\n",
       "    </tr>\n",
       "    <tr>\n",
       "      <th>4</th>\n",
       "      <td>TSD-1028</td>\n",
       "      <td>2020-02-13 16:43:29</td>\n",
       "      <td>NaT</td>\n",
       "      <td>2020-02-15 18:37:08</td>\n",
       "      <td>High</td>\n",
       "      <td>Escalated</td>\n",
       "      <td>0</td>\n",
       "      <td>1</td>\n",
       "      <td>0</td>\n",
       "      <td>0</td>\n",
       "      <td>7</td>\n",
       "      <td>Thursday</td>\n",
       "      <td>7</td>\n",
       "      <td>NaN</td>\n",
       "    </tr>\n",
       "  </tbody>\n",
       "</table>\n",
       "</div>"
      ],
      "text/plain": [
       "        Key        Date_Created     Date_Resolution        Date_Updated  \\\n",
       "0   TSD-100 2020-01-09 12:33:23 2020-01-15 11:36:23 2020-02-02 12:24:00   \n",
       "1  TSD-1003 2020-02-12 23:21:33 2020-02-13 00:09:13 2020-02-13 00:09:13   \n",
       "2  TSD-1005 2020-02-13 00:13:23 2020-02-15 18:41:10 2020-02-15 18:41:10   \n",
       "3  TSD-1025 2020-02-13 14:15:29 2020-02-14 00:06:49 2020-02-14 00:06:49   \n",
       "4  TSD-1028 2020-02-13 16:43:29                 NaT 2020-02-15 18:37:08   \n",
       "\n",
       "  Priority Status_Name  has_cifas  has_edd  has_noc  has_thin_file  \\\n",
       "0   Medium        Done          0        0        0              0   \n",
       "1   Medium        Done          0        1        0              0   \n",
       "2     High        Done          0        1        0              0   \n",
       "3   Medium        Done          1        1        0              0   \n",
       "4     High   Escalated          0        1        0              0   \n",
       "\n",
       "   time_to_resolution Weekday_Created  Week_Num_Created  Week_Num_Resoluted  \n",
       "0                   5        Thursday                 2                 3.0  \n",
       "1                   0       Wednesday                 7                 7.0  \n",
       "2                   2        Thursday                 7                 7.0  \n",
       "3                   0        Thursday                 7                 7.0  \n",
       "4                   7        Thursday                 7                 NaN  "
      ]
     },
     "execution_count": 15,
     "metadata": {},
     "output_type": "execute_result"
    }
   ],
   "source": [
    "df.head()"
   ]
  },
  {
   "cell_type": "markdown",
   "metadata": {},
   "source": [
    "Let's group by the week numbers and count the number of tasks created"
   ]
  },
  {
   "cell_type": "code",
   "execution_count": 16,
   "metadata": {},
   "outputs": [
    {
     "data": {
      "text/html": [
       "<div>\n",
       "<style scoped>\n",
       "    .dataframe tbody tr th:only-of-type {\n",
       "        vertical-align: middle;\n",
       "    }\n",
       "\n",
       "    .dataframe tbody tr th {\n",
       "        vertical-align: top;\n",
       "    }\n",
       "\n",
       "    .dataframe thead th {\n",
       "        text-align: right;\n",
       "    }\n",
       "</style>\n",
       "<table border=\"1\" class=\"dataframe\">\n",
       "  <thead>\n",
       "    <tr style=\"text-align: right;\">\n",
       "      <th></th>\n",
       "      <th>Week_Num_Created</th>\n",
       "      <th>Tasks_Created</th>\n",
       "    </tr>\n",
       "  </thead>\n",
       "  <tbody>\n",
       "    <tr>\n",
       "      <th>0</th>\n",
       "      <td>1</td>\n",
       "      <td>5</td>\n",
       "    </tr>\n",
       "    <tr>\n",
       "      <th>1</th>\n",
       "      <td>2</td>\n",
       "      <td>28</td>\n",
       "    </tr>\n",
       "    <tr>\n",
       "      <th>2</th>\n",
       "      <td>3</td>\n",
       "      <td>31</td>\n",
       "    </tr>\n",
       "    <tr>\n",
       "      <th>3</th>\n",
       "      <td>4</td>\n",
       "      <td>21</td>\n",
       "    </tr>\n",
       "    <tr>\n",
       "      <th>4</th>\n",
       "      <td>5</td>\n",
       "      <td>67</td>\n",
       "    </tr>\n",
       "    <tr>\n",
       "      <th>5</th>\n",
       "      <td>6</td>\n",
       "      <td>62</td>\n",
       "    </tr>\n",
       "    <tr>\n",
       "      <th>6</th>\n",
       "      <td>7</td>\n",
       "      <td>108</td>\n",
       "    </tr>\n",
       "    <tr>\n",
       "      <th>7</th>\n",
       "      <td>8</td>\n",
       "      <td>30</td>\n",
       "    </tr>\n",
       "  </tbody>\n",
       "</table>\n",
       "</div>"
      ],
      "text/plain": [
       "   Week_Num_Created  Tasks_Created\n",
       "0                 1              5\n",
       "1                 2             28\n",
       "2                 3             31\n",
       "3                 4             21\n",
       "4                 5             67\n",
       "5                 6             62\n",
       "6                 7            108\n",
       "7                 8             30"
      ]
     },
     "execution_count": 16,
     "metadata": {},
     "output_type": "execute_result"
    }
   ],
   "source": [
    "df_tc = df[['Key','Week_Num_Created']]\n",
    "df_tc = df_tc.groupby(['Week_Num_Created']).count().reset_index()\n",
    "df_tc = df_tc.rename(columns={'Key':'Tasks_Created'})\n",
    "df_tc"
   ]
  },
  {
   "cell_type": "markdown",
   "metadata": {},
   "source": [
    "Let's group by the week numbers and count the number of tasks resoluted"
   ]
  },
  {
   "cell_type": "code",
   "execution_count": 17,
   "metadata": {},
   "outputs": [
    {
     "data": {
      "text/html": [
       "<div>\n",
       "<style scoped>\n",
       "    .dataframe tbody tr th:only-of-type {\n",
       "        vertical-align: middle;\n",
       "    }\n",
       "\n",
       "    .dataframe tbody tr th {\n",
       "        vertical-align: top;\n",
       "    }\n",
       "\n",
       "    .dataframe thead th {\n",
       "        text-align: right;\n",
       "    }\n",
       "</style>\n",
       "<table border=\"1\" class=\"dataframe\">\n",
       "  <thead>\n",
       "    <tr style=\"text-align: right;\">\n",
       "      <th></th>\n",
       "      <th>Week_Num_Resoluted</th>\n",
       "      <th>Tasks_Resoluted</th>\n",
       "    </tr>\n",
       "  </thead>\n",
       "  <tbody>\n",
       "    <tr>\n",
       "      <th>0</th>\n",
       "      <td>2</td>\n",
       "      <td>8</td>\n",
       "    </tr>\n",
       "    <tr>\n",
       "      <th>1</th>\n",
       "      <td>3</td>\n",
       "      <td>24</td>\n",
       "    </tr>\n",
       "    <tr>\n",
       "      <th>2</th>\n",
       "      <td>4</td>\n",
       "      <td>21</td>\n",
       "    </tr>\n",
       "    <tr>\n",
       "      <th>3</th>\n",
       "      <td>5</td>\n",
       "      <td>40</td>\n",
       "    </tr>\n",
       "    <tr>\n",
       "      <th>4</th>\n",
       "      <td>6</td>\n",
       "      <td>48</td>\n",
       "    </tr>\n",
       "    <tr>\n",
       "      <th>5</th>\n",
       "      <td>7</td>\n",
       "      <td>89</td>\n",
       "    </tr>\n",
       "    <tr>\n",
       "      <th>6</th>\n",
       "      <td>8</td>\n",
       "      <td>51</td>\n",
       "    </tr>\n",
       "  </tbody>\n",
       "</table>\n",
       "</div>"
      ],
      "text/plain": [
       "   Week_Num_Resoluted  Tasks_Resoluted\n",
       "0                   2                8\n",
       "1                   3               24\n",
       "2                   4               21\n",
       "3                   5               40\n",
       "4                   6               48\n",
       "5                   7               89\n",
       "6                   8               51"
      ]
     },
     "execution_count": 17,
     "metadata": {},
     "output_type": "execute_result"
    }
   ],
   "source": [
    "df_tr = df[['Key','Week_Num_Resoluted']]\n",
    "df_tr = df_tr.groupby(['Week_Num_Resoluted']).count().reset_index()\n",
    "df_tr['Week_Num_Resoluted'] = df_tr['Week_Num_Resoluted'].astype(int)\n",
    "df_tr = df_tr.rename(columns={'Key':'Tasks_Resoluted'})\n",
    "df_tr"
   ]
  },
  {
   "cell_type": "markdown",
   "metadata": {},
   "source": [
    "Let's join this two dataframe in a single one to plot in the same graph tasks created and resoluted"
   ]
  },
  {
   "cell_type": "code",
   "execution_count": 18,
   "metadata": {},
   "outputs": [],
   "source": [
    "df_join = pd.merge(df_tc, df_tr, left_on='Week_Num_Created', right_on = 'Week_Num_Resoluted', how='outer')"
   ]
  },
  {
   "cell_type": "code",
   "execution_count": 19,
   "metadata": {
    "scrolled": true
   },
   "outputs": [],
   "source": [
    "df_join['Tasks_Resoluted'].fillna(0, inplace=True) # convert Nan to 0\n",
    "del df_join['Week_Num_Resoluted'] # Eliminate redundant columns"
   ]
  },
  {
   "cell_type": "markdown",
   "metadata": {},
   "source": [
    "The following table shows the tasks created and resoluted over the weekend of the year"
   ]
  },
  {
   "cell_type": "code",
   "execution_count": 20,
   "metadata": {},
   "outputs": [
    {
     "data": {
      "text/html": [
       "<div>\n",
       "<style scoped>\n",
       "    .dataframe tbody tr th:only-of-type {\n",
       "        vertical-align: middle;\n",
       "    }\n",
       "\n",
       "    .dataframe tbody tr th {\n",
       "        vertical-align: top;\n",
       "    }\n",
       "\n",
       "    .dataframe thead th {\n",
       "        text-align: right;\n",
       "    }\n",
       "</style>\n",
       "<table border=\"1\" class=\"dataframe\">\n",
       "  <thead>\n",
       "    <tr style=\"text-align: right;\">\n",
       "      <th></th>\n",
       "      <th>Week_Num_Created</th>\n",
       "      <th>Tasks_Created</th>\n",
       "      <th>Tasks_Resoluted</th>\n",
       "    </tr>\n",
       "  </thead>\n",
       "  <tbody>\n",
       "    <tr>\n",
       "      <th>0</th>\n",
       "      <td>1</td>\n",
       "      <td>5</td>\n",
       "      <td>0.0</td>\n",
       "    </tr>\n",
       "    <tr>\n",
       "      <th>1</th>\n",
       "      <td>2</td>\n",
       "      <td>28</td>\n",
       "      <td>8.0</td>\n",
       "    </tr>\n",
       "    <tr>\n",
       "      <th>2</th>\n",
       "      <td>3</td>\n",
       "      <td>31</td>\n",
       "      <td>24.0</td>\n",
       "    </tr>\n",
       "    <tr>\n",
       "      <th>3</th>\n",
       "      <td>4</td>\n",
       "      <td>21</td>\n",
       "      <td>21.0</td>\n",
       "    </tr>\n",
       "    <tr>\n",
       "      <th>4</th>\n",
       "      <td>5</td>\n",
       "      <td>67</td>\n",
       "      <td>40.0</td>\n",
       "    </tr>\n",
       "    <tr>\n",
       "      <th>5</th>\n",
       "      <td>6</td>\n",
       "      <td>62</td>\n",
       "      <td>48.0</td>\n",
       "    </tr>\n",
       "    <tr>\n",
       "      <th>6</th>\n",
       "      <td>7</td>\n",
       "      <td>108</td>\n",
       "      <td>89.0</td>\n",
       "    </tr>\n",
       "    <tr>\n",
       "      <th>7</th>\n",
       "      <td>8</td>\n",
       "      <td>30</td>\n",
       "      <td>51.0</td>\n",
       "    </tr>\n",
       "  </tbody>\n",
       "</table>\n",
       "</div>"
      ],
      "text/plain": [
       "   Week_Num_Created  Tasks_Created  Tasks_Resoluted\n",
       "0                 1              5              0.0\n",
       "1                 2             28              8.0\n",
       "2                 3             31             24.0\n",
       "3                 4             21             21.0\n",
       "4                 5             67             40.0\n",
       "5                 6             62             48.0\n",
       "6                 7            108             89.0\n",
       "7                 8             30             51.0"
      ]
     },
     "execution_count": 20,
     "metadata": {},
     "output_type": "execute_result"
    }
   ],
   "source": [
    "df_join"
   ]
  },
  {
   "cell_type": "markdown",
   "metadata": {},
   "source": [
    "The following plot displays the information of the table in a visual way"
   ]
  },
  {
   "cell_type": "code",
   "execution_count": 21,
   "metadata": {
    "scrolled": true
   },
   "outputs": [
    {
     "data": {
      "image/png": "[encoded data removed]",
      "text/plain": [
       "<Figure size 432x288 with 1 Axes>"
      ]
     },
     "metadata": {
      "needs_background": "light"
     },
     "output_type": "display_data"
    }
   ],
   "source": [
    "df_join.plot(x='Week_Num_Created', y=['Tasks_Created','Tasks_Resoluted'])\n",
    "plt.show()"
   ]
  },
  {
   "cell_type": "markdown",
   "metadata": {},
   "source": [
    "# C. Modelling and Prediction"
   ]
  },
  {
   "cell_type": "markdown",
   "metadata": {},
   "source": [
    "We are asked to estimae the 'Date_Resolution' and 'time_to_resolution' using the available dataset. Since the task date creation is available and the 'Date_Resolution' can be easily infered adding to it the 'time_to_resolution', let's use a numerical variable as dependent, that is to say, 'time_to_resolution'."
   ]
  },
  {
   "cell_type": "code",
   "execution_count": 33,
   "metadata": {},
   "outputs": [
    {
     "data": {
      "text/html": [
       "<div>\n",
       "<style scoped>\n",
       "    .dataframe tbody tr th:only-of-type {\n",
       "        vertical-align: middle;\n",
       "    }\n",
       "\n",
       "    .dataframe tbody tr th {\n",
       "        vertical-align: top;\n",
       "    }\n",
       "\n",
       "    .dataframe thead th {\n",
       "        text-align: right;\n",
       "    }\n",
       "</style>\n",
       "<table border=\"1\" class=\"dataframe\">\n",
       "  <thead>\n",
       "    <tr style=\"text-align: right;\">\n",
       "      <th></th>\n",
       "      <th>Key</th>\n",
       "      <th>Date_Created</th>\n",
       "      <th>Date_Resolution</th>\n",
       "      <th>Date_Updated</th>\n",
       "      <th>Priority</th>\n",
       "      <th>Status_Name</th>\n",
       "      <th>has_cifas</th>\n",
       "      <th>has_edd</th>\n",
       "      <th>has_noc</th>\n",
       "      <th>has_thin_file</th>\n",
       "      <th>time_to_resolution</th>\n",
       "    </tr>\n",
       "  </thead>\n",
       "  <tbody>\n",
       "    <tr>\n",
       "      <th>0</th>\n",
       "      <td>TSD-100</td>\n",
       "      <td>2020-01-09 12:33:23</td>\n",
       "      <td>2020-01-15 11:36:23</td>\n",
       "      <td>2020-02-02 12:24:00</td>\n",
       "      <td>Medium</td>\n",
       "      <td>Done</td>\n",
       "      <td>0</td>\n",
       "      <td>0</td>\n",
       "      <td>0</td>\n",
       "      <td>0</td>\n",
       "      <td>5</td>\n",
       "    </tr>\n",
       "    <tr>\n",
       "      <th>1</th>\n",
       "      <td>TSD-1003</td>\n",
       "      <td>2020-02-12 23:21:33</td>\n",
       "      <td>2020-02-13 00:09:13</td>\n",
       "      <td>2020-02-13 00:09:13</td>\n",
       "      <td>Medium</td>\n",
       "      <td>Done</td>\n",
       "      <td>0</td>\n",
       "      <td>1</td>\n",
       "      <td>0</td>\n",
       "      <td>0</td>\n",
       "      <td>0</td>\n",
       "    </tr>\n",
       "    <tr>\n",
       "      <th>2</th>\n",
       "      <td>TSD-1005</td>\n",
       "      <td>2020-02-13 00:13:23</td>\n",
       "      <td>2020-02-15 18:41:10</td>\n",
       "      <td>2020-02-15 18:41:10</td>\n",
       "      <td>High</td>\n",
       "      <td>Done</td>\n",
       "      <td>0</td>\n",
       "      <td>1</td>\n",
       "      <td>0</td>\n",
       "      <td>0</td>\n",
       "      <td>2</td>\n",
       "    </tr>\n",
       "    <tr>\n",
       "      <th>3</th>\n",
       "      <td>TSD-1025</td>\n",
       "      <td>2020-02-13 14:15:29</td>\n",
       "      <td>2020-02-14 00:06:49</td>\n",
       "      <td>2020-02-14 00:06:49</td>\n",
       "      <td>Medium</td>\n",
       "      <td>Done</td>\n",
       "      <td>1</td>\n",
       "      <td>1</td>\n",
       "      <td>0</td>\n",
       "      <td>0</td>\n",
       "      <td>0</td>\n",
       "    </tr>\n",
       "    <tr>\n",
       "      <th>4</th>\n",
       "      <td>TSD-1028</td>\n",
       "      <td>2020-02-13 16:43:29</td>\n",
       "      <td>NaT</td>\n",
       "      <td>2020-02-15 18:37:08</td>\n",
       "      <td>High</td>\n",
       "      <td>Escalated</td>\n",
       "      <td>0</td>\n",
       "      <td>1</td>\n",
       "      <td>0</td>\n",
       "      <td>0</td>\n",
       "      <td>7</td>\n",
       "    </tr>\n",
       "  </tbody>\n",
       "</table>\n",
       "</div>"
      ],
      "text/plain": [
       "        Key        Date_Created     Date_Resolution        Date_Updated  \\\n",
       "0   TSD-100 2020-01-09 12:33:23 2020-01-15 11:36:23 2020-02-02 12:24:00   \n",
       "1  TSD-1003 2020-02-12 23:21:33 2020-02-13 00:09:13 2020-02-13 00:09:13   \n",
       "2  TSD-1005 2020-02-13 00:13:23 2020-02-15 18:41:10 2020-02-15 18:41:10   \n",
       "3  TSD-1025 2020-02-13 14:15:29 2020-02-14 00:06:49 2020-02-14 00:06:49   \n",
       "4  TSD-1028 2020-02-13 16:43:29                 NaT 2020-02-15 18:37:08   \n",
       "\n",
       "  Priority Status_Name  has_cifas  has_edd  has_noc  has_thin_file  \\\n",
       "0   Medium        Done          0        0        0              0   \n",
       "1   Medium        Done          0        1        0              0   \n",
       "2     High        Done          0        1        0              0   \n",
       "3   Medium        Done          1        1        0              0   \n",
       "4     High   Escalated          0        1        0              0   \n",
       "\n",
       "   time_to_resolution  \n",
       "0                   5  \n",
       "1                   0  \n",
       "2                   2  \n",
       "3                   0  \n",
       "4                   7  "
      ]
     },
     "execution_count": 33,
     "metadata": {},
     "output_type": "execute_result"
    }
   ],
   "source": [
    "# Check avaialble dataset\n",
    "df_raw.head()"
   ]
  },
  {
   "cell_type": "markdown",
   "metadata": {},
   "source": [
    "Let's set the columns we want to use so we can reuse easily the code for other datasets."
   ]
  },
  {
   "cell_type": "code",
   "execution_count": 23,
   "metadata": {},
   "outputs": [],
   "source": [
    "# Config\n",
    "dependent_variable = ['time_to_resolution']\n",
    "independent_variables = ['Priority', 'has_cifas', 'has_edd', 'has_noc', 'has_thin_file']\n",
    "categorical_variables = ['Priority']\n",
    "datetime_variables = ['hiring_starts_on','hiring_ends_on']"
   ]
  },
  {
   "cell_type": "markdown",
   "metadata": {},
   "source": [
    "Let's start creating a working dataframe and converting the categorial variables into numerical using one hot encondig."
   ]
  },
  {
   "cell_type": "code",
   "execution_count": 24,
   "metadata": {},
   "outputs": [
    {
     "data": {
      "text/html": [
       "<div>\n",
       "<style scoped>\n",
       "    .dataframe tbody tr th:only-of-type {\n",
       "        vertical-align: middle;\n",
       "    }\n",
       "\n",
       "    .dataframe tbody tr th {\n",
       "        vertical-align: top;\n",
       "    }\n",
       "\n",
       "    .dataframe thead th {\n",
       "        text-align: right;\n",
       "    }\n",
       "</style>\n",
       "<table border=\"1\" class=\"dataframe\">\n",
       "  <thead>\n",
       "    <tr style=\"text-align: right;\">\n",
       "      <th></th>\n",
       "      <th>Priority</th>\n",
       "      <th>has_cifas</th>\n",
       "      <th>has_edd</th>\n",
       "      <th>has_noc</th>\n",
       "      <th>has_thin_file</th>\n",
       "    </tr>\n",
       "  </thead>\n",
       "  <tbody>\n",
       "    <tr>\n",
       "      <th>0</th>\n",
       "      <td>Medium</td>\n",
       "      <td>0</td>\n",
       "      <td>0</td>\n",
       "      <td>0</td>\n",
       "      <td>0</td>\n",
       "    </tr>\n",
       "    <tr>\n",
       "      <th>1</th>\n",
       "      <td>Medium</td>\n",
       "      <td>0</td>\n",
       "      <td>1</td>\n",
       "      <td>0</td>\n",
       "      <td>0</td>\n",
       "    </tr>\n",
       "    <tr>\n",
       "      <th>2</th>\n",
       "      <td>High</td>\n",
       "      <td>0</td>\n",
       "      <td>1</td>\n",
       "      <td>0</td>\n",
       "      <td>0</td>\n",
       "    </tr>\n",
       "    <tr>\n",
       "      <th>3</th>\n",
       "      <td>Medium</td>\n",
       "      <td>1</td>\n",
       "      <td>1</td>\n",
       "      <td>0</td>\n",
       "      <td>0</td>\n",
       "    </tr>\n",
       "    <tr>\n",
       "      <th>4</th>\n",
       "      <td>High</td>\n",
       "      <td>0</td>\n",
       "      <td>1</td>\n",
       "      <td>0</td>\n",
       "      <td>0</td>\n",
       "    </tr>\n",
       "  </tbody>\n",
       "</table>\n",
       "</div>"
      ],
      "text/plain": [
       "  Priority  has_cifas  has_edd  has_noc  has_thin_file\n",
       "0   Medium          0        0        0              0\n",
       "1   Medium          0        1        0              0\n",
       "2     High          0        1        0              0\n",
       "3   Medium          1        1        0              0\n",
       "4     High          0        1        0              0"
      ]
     },
     "execution_count": 24,
     "metadata": {},
     "output_type": "execute_result"
    }
   ],
   "source": [
    "# Create working dataframe\n",
    "df_w = df[independent_variables]\n",
    "df_w.head()"
   ]
  },
  {
   "cell_type": "code",
   "execution_count": 25,
   "metadata": {},
   "outputs": [
    {
     "data": {
      "text/html": [
       "<div>\n",
       "<style scoped>\n",
       "    .dataframe tbody tr th:only-of-type {\n",
       "        vertical-align: middle;\n",
       "    }\n",
       "\n",
       "    .dataframe tbody tr th {\n",
       "        vertical-align: top;\n",
       "    }\n",
       "\n",
       "    .dataframe thead th {\n",
       "        text-align: right;\n",
       "    }\n",
       "</style>\n",
       "<table border=\"1\" class=\"dataframe\">\n",
       "  <thead>\n",
       "    <tr style=\"text-align: right;\">\n",
       "      <th></th>\n",
       "      <th>has_cifas</th>\n",
       "      <th>has_edd</th>\n",
       "      <th>has_noc</th>\n",
       "      <th>has_thin_file</th>\n",
       "      <th>Priority_High</th>\n",
       "      <th>Priority_Highest</th>\n",
       "      <th>Priority_Low</th>\n",
       "      <th>Priority_Medium</th>\n",
       "    </tr>\n",
       "  </thead>\n",
       "  <tbody>\n",
       "    <tr>\n",
       "      <th>0</th>\n",
       "      <td>0</td>\n",
       "      <td>0</td>\n",
       "      <td>0</td>\n",
       "      <td>0</td>\n",
       "      <td>0</td>\n",
       "      <td>0</td>\n",
       "      <td>0</td>\n",
       "      <td>1</td>\n",
       "    </tr>\n",
       "    <tr>\n",
       "      <th>1</th>\n",
       "      <td>0</td>\n",
       "      <td>1</td>\n",
       "      <td>0</td>\n",
       "      <td>0</td>\n",
       "      <td>0</td>\n",
       "      <td>0</td>\n",
       "      <td>0</td>\n",
       "      <td>1</td>\n",
       "    </tr>\n",
       "    <tr>\n",
       "      <th>2</th>\n",
       "      <td>0</td>\n",
       "      <td>1</td>\n",
       "      <td>0</td>\n",
       "      <td>0</td>\n",
       "      <td>1</td>\n",
       "      <td>0</td>\n",
       "      <td>0</td>\n",
       "      <td>0</td>\n",
       "    </tr>\n",
       "    <tr>\n",
       "      <th>3</th>\n",
       "      <td>1</td>\n",
       "      <td>1</td>\n",
       "      <td>0</td>\n",
       "      <td>0</td>\n",
       "      <td>0</td>\n",
       "      <td>0</td>\n",
       "      <td>0</td>\n",
       "      <td>1</td>\n",
       "    </tr>\n",
       "    <tr>\n",
       "      <th>4</th>\n",
       "      <td>0</td>\n",
       "      <td>1</td>\n",
       "      <td>0</td>\n",
       "      <td>0</td>\n",
       "      <td>1</td>\n",
       "      <td>0</td>\n",
       "      <td>0</td>\n",
       "      <td>0</td>\n",
       "    </tr>\n",
       "  </tbody>\n",
       "</table>\n",
       "</div>"
      ],
      "text/plain": [
       "   has_cifas  has_edd  has_noc  has_thin_file  Priority_High  \\\n",
       "0          0        0        0              0              0   \n",
       "1          0        1        0              0              0   \n",
       "2          0        1        0              0              1   \n",
       "3          1        1        0              0              0   \n",
       "4          0        1        0              0              1   \n",
       "\n",
       "   Priority_Highest  Priority_Low  Priority_Medium  \n",
       "0                 0             0                1  \n",
       "1                 0             0                1  \n",
       "2                 0             0                0  \n",
       "3                 0             0                1  \n",
       "4                 0             0                0  "
      ]
     },
     "execution_count": 25,
     "metadata": {},
     "output_type": "execute_result"
    }
   ],
   "source": [
    "# Convert categorical variables to one hot encoding\n",
    "df_temp = pd.get_dummies(df_raw[categorical_variables], drop_first=False)\n",
    "df_temp.head()\n",
    "\n",
    "# Add  result to working dataframe\n",
    "df_w = pd.concat([df_w,df_temp], axis='columns')\n",
    "\n",
    "# Drop original categorical columns\n",
    "df_w.drop(categorical_variables, axis=1, inplace=True)\n",
    "\n",
    "# Show results\n",
    "df_w.head()"
   ]
  },
  {
   "cell_type": "markdown",
   "metadata": {},
   "source": [
    "We split the dataset into a training and a test subset."
   ]
  },
  {
   "cell_type": "code",
   "execution_count": 26,
   "metadata": {},
   "outputs": [],
   "source": [
    "X = df_w\n",
    "y = df[dependent_variable]"
   ]
  },
  {
   "cell_type": "code",
   "execution_count": 27,
   "metadata": {},
   "outputs": [],
   "source": [
    "X_train, X_test, y_train, y_test = train_test_split(X,y,test_size=0.05)"
   ]
  },
  {
   "cell_type": "markdown",
   "metadata": {},
   "source": [
    "We train the model using the the train subset."
   ]
  },
  {
   "cell_type": "code",
   "execution_count": 28,
   "metadata": {},
   "outputs": [
    {
     "data": {
      "text/plain": [
       "LinearRegression(copy_X=True, fit_intercept=True, n_jobs=None, normalize=False)"
      ]
     },
     "execution_count": 28,
     "metadata": {},
     "output_type": "execute_result"
    }
   ],
   "source": [
    "linreg = LinearRegression()\n",
    "linreg.fit(X_train, y_train)"
   ]
  },
  {
   "cell_type": "markdown",
   "metadata": {},
   "source": [
    "We make a prediction using the test subset."
   ]
  },
  {
   "cell_type": "code",
   "execution_count": 29,
   "metadata": {},
   "outputs": [],
   "source": [
    "y_pred = linreg.predict(X_test)"
   ]
  },
  {
   "cell_type": "markdown",
   "metadata": {},
   "source": [
    "Let's evaluate the prediction."
   ]
  },
  {
   "cell_type": "code",
   "execution_count": 30,
   "metadata": {},
   "outputs": [],
   "source": [
    "from sklearn.metrics import r2_score\n",
    "score = r2_score(y_test, y_pred)"
   ]
  },
  {
   "cell_type": "code",
   "execution_count": 31,
   "metadata": {},
   "outputs": [
    {
     "data": {
      "text/plain": [
       "0.07782537893882402"
      ]
     },
     "execution_count": 31,
     "metadata": {},
     "output_type": "execute_result"
    }
   ],
   "source": [
    "#Closer to 1 better is the prediction\n",
    "score"
   ]
  },
  {
   "cell_type": "code",
   "execution_count": null,
   "metadata": {},
   "outputs": [],
   "source": []
  }
 ],
 "metadata": {
  "kernelspec": {
   "display_name": "Python 3",
   "language": "python",
   "name": "python3"
  },
  "language_info": {
   "codemirror_mode": {
    "name": "ipython",
    "version": 3
   },
   "file_extension": ".py",
   "mimetype": "text/x-python",
   "name": "python",
   "nbconvert_exporter": "python",
   "pygments_lexer": "ipython3",
   "version": "3.7.3"
  }
 },
 "nbformat": 4,
 "nbformat_minor": 2
}
